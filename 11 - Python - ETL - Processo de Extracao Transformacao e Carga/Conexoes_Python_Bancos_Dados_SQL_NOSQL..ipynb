{
 "cells": [
  {
   "cell_type": "markdown",
   "metadata": {},
   "source": [
    "# Conexões com Bancos de Dados NoSQL e SQL em Python com Pandas e Jupyter Notebook"
   ]
  },
  {
   "cell_type": "code",
   "execution_count": 1,
   "metadata": {},
   "outputs": [],
   "source": [
    "# Primeiro Contato com Banco NOSQL MongoDB "
   ]
  },
  {
   "cell_type": "markdown",
   "metadata": {},
   "source": [
    "# MongoDB"
   ]
  },
  {
   "cell_type": "code",
   "execution_count": 2,
   "metadata": {},
   "outputs": [
    {
     "name": "stdout",
     "output_type": "stream",
     "text": [
      "Requirement already satisfied: pymongo in c:\\programdata\\anaconda3\\lib\\site-packages (3.12.0)\n"
     ]
    }
   ],
   "source": [
    "# Instalador PyMongo\n",
    "!pip install pymongo"
   ]
  },
  {
   "cell_type": "code",
   "execution_count": 3,
   "metadata": {},
   "outputs": [],
   "source": [
    "import pandas as pd\n",
    "\n",
    "# Importando o Módulo PyMongo\n",
    "import pymongo"
   ]
  },
  {
   "cell_type": "code",
   "execution_count": 4,
   "metadata": {},
   "outputs": [],
   "source": [
    "# Criando a Conexão com o PyMongo\n",
    "\n",
    "myclient = pymongo.MongoClient(\"mongodb://localhost:27017/\")"
   ]
  },
  {
   "cell_type": "code",
   "execution_count": 5,
   "metadata": {},
   "outputs": [],
   "source": [
    "# Ler e Armazenando o Banco/Documento e a Collection em Variáveis\n",
    "\n",
    "mydb = myclient[\"local\"]\n",
    "mycol = mydb[\"startup_log\"]\n"
   ]
  },
  {
   "cell_type": "code",
   "execution_count": 8,
   "metadata": {},
   "outputs": [
    {
     "name": "stdout",
     "output_type": "stream",
     "text": [
      "{'_id': 'NOTE-RRL-BRASIL-1630273261434', 'hostname': 'NOTE-RRL-BRASIL', 'startTime': datetime.datetime(2021, 8, 29, 21, 41, 1), 'startTimeLocal': 'Sun Aug 29 18:41:01.434', 'cmdLine': {'config': 'C:\\\\Program Files\\\\MongoDB\\\\Server\\\\5.0\\\\bin\\\\mongod.cfg', 'net': {'bindIp': '127.0.0.1', 'port': 27017}, 'service': True, 'storage': {'dbPath': 'C:\\\\Program Files\\\\MongoDB\\\\Server\\\\5.0\\\\data', 'journal': {'enabled': True}}, 'systemLog': {'destination': 'file', 'logAppend': True, 'path': 'C:\\\\Program Files\\\\MongoDB\\\\Server\\\\5.0\\\\log\\\\mongod.log'}}, 'pid': 5428, 'buildinfo': {'version': '5.0.2', 'gitVersion': '6d9ec525e78465dcecadcff99cce953d380fedc8', 'targetMinOS': 'Windows 7/Windows Server 2008 R2', 'modules': [], 'allocator': 'tcmalloc', 'javascriptEngine': 'mozjs', 'sysInfo': 'deprecated', 'versionArray': [5, 0, 2, 0], 'openssl': {'running': 'Windows SChannel'}, 'buildEnvironment': {'distmod': 'windows', 'distarch': 'x86_64', 'cc': 'cl: Microsoft (R) C/C++ Optimizing Compiler Version 19.26.28806 for x64', 'ccflags': '/nologo /WX /FImongo/platform/basic.h /EHsc /W3 /wd4068 /wd4244 /wd4267 /wd4290 /wd4351 /wd4355 /wd4373 /wd4800 /wd4251 /wd4291 /we4013 /we4099 /we4930 /errorReport:none /MD /O2 /Oy- /bigobj /utf-8 /permissive- /Zc:__cplusplus /Zc:sizedDealloc /volatile:iso /diagnostics:caret /std:c++17 /Gw /Gy /Zc:inline', 'cxx': 'cl: Microsoft (R) C/C++ Optimizing Compiler Version 19.26.28806 for x64', 'cxxflags': '/TP', 'linkflags': '/nologo /DEBUG /INCREMENTAL:NO /LARGEADDRESSAWARE /OPT:REF', 'target_arch': 'x86_64', 'target_os': 'windows', 'cppdefines': 'SAFEINT_USE_INTRINSICS 0 PCRE_STATIC NDEBUG BOOST_ALL_NO_LIB _UNICODE UNICODE _SILENCE_CXX17_ALLOCATOR_VOID_DEPRECATION_WARNING _SILENCE_CXX17_OLD_ALLOCATOR_MEMBERS_DEPRECATION_WARNING _SILENCE_CXX17_CODECVT_HEADER_DEPRECATION_WARNING _CONSOLE _CRT_SECURE_NO_WARNINGS _SCL_SECURE_NO_WARNINGS _WIN32_WINNT 0x0A00 BOOST_USE_WINAPI_VERSION 0x0A00 NTDDI_VERSION 0x0A000000 BOOST_THREAD_VERSION 5 BOOST_THREAD_USES_DATETIME BOOST_SYSTEM_NO_DEPRECATED BOOST_MATH_NO_LONG_DOUBLE_MATH_FUNCTIONS BOOST_ENABLE_ASSERT_DEBUG_HANDLER BOOST_LOG_NO_SHORTHAND_NAMES BOOST_LOG_USE_NATIVE_SYSLOG BOOST_LOG_WITHOUT_THREAD_ATTR ABSL_FORCE_ALIGNED_ACCESS'}, 'bits': 64, 'debug': False, 'maxBsonObjectSize': 16777216, 'storageEngines': ['devnull', 'ephemeralForTest', 'wiredTiger']}}\n",
      "{'_id': 'NOTE-RRL-BRASIL-1631325399887', 'hostname': 'NOTE-RRL-BRASIL', 'startTime': datetime.datetime(2021, 9, 11, 1, 56, 39), 'startTimeLocal': 'Fri Sep 10 22:56:39.887', 'cmdLine': {'config': 'C:\\\\Program Files\\\\MongoDB\\\\Server\\\\5.0\\\\bin\\\\mongod.cfg', 'net': {'bindIp': '127.0.0.1', 'port': 27017}, 'service': True, 'storage': {'dbPath': 'C:\\\\Program Files\\\\MongoDB\\\\Server\\\\5.0\\\\data', 'journal': {'enabled': True}}, 'systemLog': {'destination': 'file', 'logAppend': True, 'path': 'C:\\\\Program Files\\\\MongoDB\\\\Server\\\\5.0\\\\log\\\\mongod.log'}}, 'pid': 9880, 'buildinfo': {'version': '5.0.2', 'gitVersion': '6d9ec525e78465dcecadcff99cce953d380fedc8', 'targetMinOS': 'Windows 7/Windows Server 2008 R2', 'modules': [], 'allocator': 'tcmalloc', 'javascriptEngine': 'mozjs', 'sysInfo': 'deprecated', 'versionArray': [5, 0, 2, 0], 'openssl': {'running': 'Windows SChannel'}, 'buildEnvironment': {'distmod': 'windows', 'distarch': 'x86_64', 'cc': 'cl: Microsoft (R) C/C++ Optimizing Compiler Version 19.26.28806 for x64', 'ccflags': '/nologo /WX /FImongo/platform/basic.h /EHsc /W3 /wd4068 /wd4244 /wd4267 /wd4290 /wd4351 /wd4355 /wd4373 /wd4800 /wd4251 /wd4291 /we4013 /we4099 /we4930 /errorReport:none /MD /O2 /Oy- /bigobj /utf-8 /permissive- /Zc:__cplusplus /Zc:sizedDealloc /volatile:iso /diagnostics:caret /std:c++17 /Gw /Gy /Zc:inline', 'cxx': 'cl: Microsoft (R) C/C++ Optimizing Compiler Version 19.26.28806 for x64', 'cxxflags': '/TP', 'linkflags': '/nologo /DEBUG /INCREMENTAL:NO /LARGEADDRESSAWARE /OPT:REF', 'target_arch': 'x86_64', 'target_os': 'windows', 'cppdefines': 'SAFEINT_USE_INTRINSICS 0 PCRE_STATIC NDEBUG BOOST_ALL_NO_LIB _UNICODE UNICODE _SILENCE_CXX17_ALLOCATOR_VOID_DEPRECATION_WARNING _SILENCE_CXX17_OLD_ALLOCATOR_MEMBERS_DEPRECATION_WARNING _SILENCE_CXX17_CODECVT_HEADER_DEPRECATION_WARNING _CONSOLE _CRT_SECURE_NO_WARNINGS _SCL_SECURE_NO_WARNINGS _WIN32_WINNT 0x0A00 BOOST_USE_WINAPI_VERSION 0x0A00 NTDDI_VERSION 0x0A000000 BOOST_THREAD_VERSION 5 BOOST_THREAD_USES_DATETIME BOOST_SYSTEM_NO_DEPRECATED BOOST_MATH_NO_LONG_DOUBLE_MATH_FUNCTIONS BOOST_ENABLE_ASSERT_DEBUG_HANDLER BOOST_LOG_NO_SHORTHAND_NAMES BOOST_LOG_USE_NATIVE_SYSLOG BOOST_LOG_WITHOUT_THREAD_ATTR ABSL_FORCE_ALIGNED_ACCESS'}, 'bits': 64, 'debug': False, 'maxBsonObjectSize': 16777216, 'storageEngines': ['devnull', 'ephemeralForTest', 'wiredTiger']}}\n"
     ]
    }
   ],
   "source": [
    "# retorna todos os registros da collection\n",
    "\n",
    "for x in mycol.find():\n",
    "    print(x)"
   ]
  },
  {
   "cell_type": "code",
   "execution_count": 9,
   "metadata": {},
   "outputs": [
    {
     "name": "stdout",
     "output_type": "stream",
     "text": [
      "{'pid': 5428, '_id': 'JPAD278145-1572610091103', 'hostname': 'JPAD278145'}\n",
      "{'pid': 9880, '_id': 'JPAD278145-1572610091103', 'hostname': 'JPAD278145'}\n"
     ]
    }
   ],
   "source": [
    "# Retorna apenas as informações de Item e Quantidade\n",
    "\n",
    "for x in mycol.find({}, {\"_id\":\"JPAD278145-1572610091103\", \"hostname\":\"JPAD278145\", \"pid\":15264}):\n",
    "    print(x)"
   ]
  },
  {
   "cell_type": "code",
   "execution_count": 10,
   "metadata": {},
   "outputs": [],
   "source": [
    "# Retorna apenas o Item com pid 15264\n",
    "\n",
    "myquery = {\"pid\":15264}\n",
    "\n",
    "mydoc = mycol.find(myquery)\n",
    "\n",
    "for x in mydoc:\n",
    "    print(x)\n",
    "\n"
   ]
  },
  {
   "cell_type": "code",
   "execution_count": 11,
   "metadata": {},
   "outputs": [],
   "source": [
    "df_mongo = pd.DataFrame(list(mycol.find()))"
   ]
  },
  {
   "cell_type": "code",
   "execution_count": 12,
   "metadata": {},
   "outputs": [
    {
     "data": {
      "text/html": [
       "<div>\n",
       "<style scoped>\n",
       "    .dataframe tbody tr th:only-of-type {\n",
       "        vertical-align: middle;\n",
       "    }\n",
       "\n",
       "    .dataframe tbody tr th {\n",
       "        vertical-align: top;\n",
       "    }\n",
       "\n",
       "    .dataframe thead th {\n",
       "        text-align: right;\n",
       "    }\n",
       "</style>\n",
       "<table border=\"1\" class=\"dataframe\">\n",
       "  <thead>\n",
       "    <tr style=\"text-align: right;\">\n",
       "      <th></th>\n",
       "      <th>_id</th>\n",
       "      <th>hostname</th>\n",
       "      <th>startTime</th>\n",
       "      <th>startTimeLocal</th>\n",
       "      <th>cmdLine</th>\n",
       "      <th>pid</th>\n",
       "      <th>buildinfo</th>\n",
       "    </tr>\n",
       "  </thead>\n",
       "  <tbody>\n",
       "    <tr>\n",
       "      <th>0</th>\n",
       "      <td>NOTE-RRL-BRASIL-1630273261434</td>\n",
       "      <td>NOTE-RRL-BRASIL</td>\n",
       "      <td>2021-08-29 21:41:01</td>\n",
       "      <td>Sun Aug 29 18:41:01.434</td>\n",
       "      <td>{'config': 'C:\\Program Files\\MongoDB\\Server\\5....</td>\n",
       "      <td>5428</td>\n",
       "      <td>{'version': '5.0.2', 'gitVersion': '6d9ec525e7...</td>\n",
       "    </tr>\n",
       "    <tr>\n",
       "      <th>1</th>\n",
       "      <td>NOTE-RRL-BRASIL-1631325399887</td>\n",
       "      <td>NOTE-RRL-BRASIL</td>\n",
       "      <td>2021-09-11 01:56:39</td>\n",
       "      <td>Fri Sep 10 22:56:39.887</td>\n",
       "      <td>{'config': 'C:\\Program Files\\MongoDB\\Server\\5....</td>\n",
       "      <td>9880</td>\n",
       "      <td>{'version': '5.0.2', 'gitVersion': '6d9ec525e7...</td>\n",
       "    </tr>\n",
       "  </tbody>\n",
       "</table>\n",
       "</div>"
      ],
      "text/plain": [
       "                             _id         hostname           startTime  \\\n",
       "0  NOTE-RRL-BRASIL-1630273261434  NOTE-RRL-BRASIL 2021-08-29 21:41:01   \n",
       "1  NOTE-RRL-BRASIL-1631325399887  NOTE-RRL-BRASIL 2021-09-11 01:56:39   \n",
       "\n",
       "            startTimeLocal                                            cmdLine  \\\n",
       "0  Sun Aug 29 18:41:01.434  {'config': 'C:\\Program Files\\MongoDB\\Server\\5....   \n",
       "1  Fri Sep 10 22:56:39.887  {'config': 'C:\\Program Files\\MongoDB\\Server\\5....   \n",
       "\n",
       "    pid                                          buildinfo  \n",
       "0  5428  {'version': '5.0.2', 'gitVersion': '6d9ec525e7...  \n",
       "1  9880  {'version': '5.0.2', 'gitVersion': '6d9ec525e7...  "
      ]
     },
     "execution_count": 12,
     "metadata": {},
     "output_type": "execute_result"
    }
   ],
   "source": [
    "df_mongo.head()"
   ]
  },
  {
   "cell_type": "code",
   "execution_count": null,
   "metadata": {},
   "outputs": [],
   "source": []
  },
  {
   "cell_type": "markdown",
   "metadata": {},
   "source": [
    "# Mysql"
   ]
  },
  {
   "cell_type": "code",
   "execution_count": 10,
   "metadata": {},
   "outputs": [
    {
     "name": "stdout",
     "output_type": "stream",
     "text": [
      "Collecting pymysql\n",
      "  Downloading PyMySQL-1.0.2-py3-none-any.whl (43 kB)\n",
      "Installing collected packages: pymysql\n",
      "Successfully installed pymysql-1.0.2\n"
     ]
    }
   ],
   "source": [
    "# Instalando os Pacotes - Mysql\n",
    "!pip install pymysql"
   ]
  },
  {
   "cell_type": "code",
   "execution_count": 13,
   "metadata": {},
   "outputs": [],
   "source": [
    "# Importar Módulo pandas\n",
    "import pandas as pd\n",
    "\n",
    "# importar o módulo pymysql\n",
    "import pymysql\n",
    "\n",
    "# converter do pymysql para o Mysql\n",
    "pymysql.install_as_MySQLdb()\n",
    "\n",
    "#import mysql.connector\n",
    "import MySQLdb"
   ]
  },
  {
   "cell_type": "code",
   "execution_count": 12,
   "metadata": {},
   "outputs": [],
   "source": [
    "# Configurações paa MYSQL connection"
   ]
  },
  {
   "cell_type": "code",
   "execution_count": 13,
   "metadata": {},
   "outputs": [],
   "source": [
    "db = MySQLdb.connect(\n",
    "    host=\"localhost\",\n",
    "    user=\"root\",\n",
    "    password=\"Ric@72255560\",\n",
    "    database=\"dbclassificados\"\n",
    ")\n",
    "\n",
    "# Cricar um objeto cursor. Isso permitirá que você execute todas as consultas necessárias\n",
    "cur = db.cursor()\n",
    "\n",
    "# Selecionar o que retornar todos os dados da tabela.\n",
    "cur.execute(\"SELECT * FROM dbclassificados.tipoanuncio\")\n",
    "\n",
    "\n",
    "#Fechar a conexão.\n",
    "db.close()"
   ]
  },
  {
   "cell_type": "code",
   "execution_count": 14,
   "metadata": {},
   "outputs": [
    {
     "data": {
      "text/html": [
       "<div>\n",
       "<style scoped>\n",
       "    .dataframe tbody tr th:only-of-type {\n",
       "        vertical-align: middle;\n",
       "    }\n",
       "\n",
       "    .dataframe tbody tr th {\n",
       "        vertical-align: top;\n",
       "    }\n",
       "\n",
       "    .dataframe thead th {\n",
       "        text-align: right;\n",
       "    }\n",
       "</style>\n",
       "<table border=\"1\" class=\"dataframe\">\n",
       "  <thead>\n",
       "    <tr style=\"text-align: right;\">\n",
       "      <th></th>\n",
       "      <th>codigo_tipoanuncio</th>\n",
       "      <th>Descricao_Tipo</th>\n",
       "      <th>2</th>\n",
       "    </tr>\n",
       "  </thead>\n",
       "  <tbody>\n",
       "    <tr>\n",
       "      <th>0</th>\n",
       "      <td>1</td>\n",
       "      <td>Imovel</td>\n",
       "      <td>150</td>\n",
       "    </tr>\n",
       "    <tr>\n",
       "      <th>1</th>\n",
       "      <td>2</td>\n",
       "      <td>Computadores</td>\n",
       "      <td>45</td>\n",
       "    </tr>\n",
       "    <tr>\n",
       "      <th>2</th>\n",
       "      <td>3</td>\n",
       "      <td>Pendrive</td>\n",
       "      <td>45</td>\n",
       "    </tr>\n",
       "    <tr>\n",
       "      <th>3</th>\n",
       "      <td>4</td>\n",
       "      <td>Placa de V?deo</td>\n",
       "      <td>57</td>\n",
       "    </tr>\n",
       "    <tr>\n",
       "      <th>4</th>\n",
       "      <td>5</td>\n",
       "      <td>Hardware</td>\n",
       "      <td>323</td>\n",
       "    </tr>\n",
       "  </tbody>\n",
       "</table>\n",
       "</div>"
      ],
      "text/plain": [
       "   codigo_tipoanuncio  Descricao_Tipo    2\n",
       "0                   1          Imovel  150\n",
       "1                   2    Computadores   45\n",
       "2                   3        Pendrive   45\n",
       "3                   4  Placa de V?deo   57\n",
       "4                   5        Hardware  323"
      ]
     },
     "execution_count": 14,
     "metadata": {},
     "output_type": "execute_result"
    }
   ],
   "source": [
    "# Converter os dados para DATAFRAME\n",
    "tb_cliente_mysql = pd.DataFrame(cur.fetchall())\n",
    "\n",
    "# Visualizar os dados do DATAFRAME\n",
    "tb_cliente_mysql.head()\n",
    "\n",
    "#Adicionar o nome para as colunas\n",
    "\n",
    "tb_cliente_mysql = tb_cliente_mysql.rename(columns={\n",
    "                                                    0: 'codigo_tipoanuncio',\n",
    "                                                    1: 'Descricao_Tipo'\n",
    "                                                })\n",
    "\n",
    "\n",
    "# Visualizar os dados com as colunas renomeadas\n",
    "\n",
    "tb_cliente_mysql.head()"
   ]
  },
  {
   "cell_type": "markdown",
   "metadata": {},
   "source": [
    "# PostgresSQL\n"
   ]
  },
  {
   "cell_type": "code",
   "execution_count": 15,
   "metadata": {},
   "outputs": [
    {
     "name": "stdout",
     "output_type": "stream",
     "text": [
      "Collecting psycopg2\n",
      "  Downloading psycopg2-2.9.1-cp37-cp37m-win_amd64.whl (1.1 MB)\n",
      "Installing collected packages: psycopg2\n",
      "Successfully installed psycopg2-2.9.1\n"
     ]
    }
   ],
   "source": [
    "!pip install psycopg2"
   ]
  },
  {
   "cell_type": "code",
   "execution_count": 18,
   "metadata": {},
   "outputs": [],
   "source": [
    "import pandas as pd\n",
    "import psycopg2 as psy"
   ]
  },
  {
   "cell_type": "code",
   "execution_count": 19,
   "metadata": {},
   "outputs": [],
   "source": [
    "PGHOST = 'localhost'\n",
    "PGDATABASE = 'dvdrental'\n",
    "PGUSER = 'postgres'\n",
    "PGPASSWORD = '72255560'\n",
    "port = '5432'\n",
    "\n",
    "# Configuração para conexão com o SGBD Postgresql\n",
    "\n",
    "conn_string = \"host=\"+ PGHOST \\\n",
    "            +\" port=\"+ port \\\n",
    "            +\" dbname=\"+ PGDATABASE \\\n",
    "            +\" user=\"+ PGUSER \\\n",
    "            +\" password=\"+ PGPASSWORD\n",
    "\n",
    "conn = psy.connect(conn_string)\n",
    "\n",
    "# Selecionar os dados que estão retornando da tabela do banco..\n",
    "tb_cliente_postgres = pd.read_sql_query(''' SELECT * FROM actor''', conn)\n",
    "\n",
    "# Fecha a Conexão com o Banco..\n",
    "conn.close()\n"
   ]
  },
  {
   "cell_type": "code",
   "execution_count": 20,
   "metadata": {},
   "outputs": [
    {
     "data": {
      "text/html": [
       "<div>\n",
       "<style scoped>\n",
       "    .dataframe tbody tr th:only-of-type {\n",
       "        vertical-align: middle;\n",
       "    }\n",
       "\n",
       "    .dataframe tbody tr th {\n",
       "        vertical-align: top;\n",
       "    }\n",
       "\n",
       "    .dataframe thead th {\n",
       "        text-align: right;\n",
       "    }\n",
       "</style>\n",
       "<table border=\"1\" class=\"dataframe\">\n",
       "  <thead>\n",
       "    <tr style=\"text-align: right;\">\n",
       "      <th></th>\n",
       "      <th>actor_id</th>\n",
       "      <th>first_name</th>\n",
       "      <th>last_name</th>\n",
       "      <th>last_update</th>\n",
       "    </tr>\n",
       "  </thead>\n",
       "  <tbody>\n",
       "    <tr>\n",
       "      <th>0</th>\n",
       "      <td>1</td>\n",
       "      <td>PENELOPE</td>\n",
       "      <td>GUINESS</td>\n",
       "      <td>2020-02-15 09:34:33+00:00</td>\n",
       "    </tr>\n",
       "    <tr>\n",
       "      <th>1</th>\n",
       "      <td>2</td>\n",
       "      <td>NICK</td>\n",
       "      <td>WAHLBERG</td>\n",
       "      <td>2020-02-15 09:34:33+00:00</td>\n",
       "    </tr>\n",
       "    <tr>\n",
       "      <th>2</th>\n",
       "      <td>3</td>\n",
       "      <td>ED</td>\n",
       "      <td>CHASE</td>\n",
       "      <td>2020-02-15 09:34:33+00:00</td>\n",
       "    </tr>\n",
       "    <tr>\n",
       "      <th>3</th>\n",
       "      <td>4</td>\n",
       "      <td>JENNIFER</td>\n",
       "      <td>DAVIS</td>\n",
       "      <td>2020-02-15 09:34:33+00:00</td>\n",
       "    </tr>\n",
       "    <tr>\n",
       "      <th>4</th>\n",
       "      <td>5</td>\n",
       "      <td>JOHNNY</td>\n",
       "      <td>LOLLOBRIGIDA</td>\n",
       "      <td>2020-02-15 09:34:33+00:00</td>\n",
       "    </tr>\n",
       "  </tbody>\n",
       "</table>\n",
       "</div>"
      ],
      "text/plain": [
       "   actor_id first_name     last_name               last_update\n",
       "0         1   PENELOPE       GUINESS 2020-02-15 09:34:33+00:00\n",
       "1         2       NICK      WAHLBERG 2020-02-15 09:34:33+00:00\n",
       "2         3         ED         CHASE 2020-02-15 09:34:33+00:00\n",
       "3         4   JENNIFER         DAVIS 2020-02-15 09:34:33+00:00\n",
       "4         5     JOHNNY  LOLLOBRIGIDA 2020-02-15 09:34:33+00:00"
      ]
     },
     "execution_count": 20,
     "metadata": {},
     "output_type": "execute_result"
    }
   ],
   "source": [
    "tb_cliente_postgres.head()"
   ]
  },
  {
   "cell_type": "code",
   "execution_count": 22,
   "metadata": {},
   "outputs": [
    {
     "data": {
      "text/html": [
       "<div>\n",
       "<style scoped>\n",
       "    .dataframe tbody tr th:only-of-type {\n",
       "        vertical-align: middle;\n",
       "    }\n",
       "\n",
       "    .dataframe tbody tr th {\n",
       "        vertical-align: top;\n",
       "    }\n",
       "\n",
       "    .dataframe thead th {\n",
       "        text-align: right;\n",
       "    }\n",
       "</style>\n",
       "<table border=\"1\" class=\"dataframe\">\n",
       "  <thead>\n",
       "    <tr style=\"text-align: right;\">\n",
       "      <th></th>\n",
       "      <th>actor_id</th>\n",
       "      <th>first_name</th>\n",
       "      <th>last_name</th>\n",
       "      <th>last_update</th>\n",
       "    </tr>\n",
       "  </thead>\n",
       "  <tbody>\n",
       "    <tr>\n",
       "      <th>195</th>\n",
       "      <td>196</td>\n",
       "      <td>BELA</td>\n",
       "      <td>WALKEN</td>\n",
       "      <td>2020-02-15 09:34:33+00:00</td>\n",
       "    </tr>\n",
       "    <tr>\n",
       "      <th>196</th>\n",
       "      <td>197</td>\n",
       "      <td>REESE</td>\n",
       "      <td>WEST</td>\n",
       "      <td>2020-02-15 09:34:33+00:00</td>\n",
       "    </tr>\n",
       "    <tr>\n",
       "      <th>197</th>\n",
       "      <td>198</td>\n",
       "      <td>MARY</td>\n",
       "      <td>KEITEL</td>\n",
       "      <td>2020-02-15 09:34:33+00:00</td>\n",
       "    </tr>\n",
       "    <tr>\n",
       "      <th>198</th>\n",
       "      <td>199</td>\n",
       "      <td>JULIA</td>\n",
       "      <td>FAWCETT</td>\n",
       "      <td>2020-02-15 09:34:33+00:00</td>\n",
       "    </tr>\n",
       "    <tr>\n",
       "      <th>199</th>\n",
       "      <td>200</td>\n",
       "      <td>THORA</td>\n",
       "      <td>TEMPLE</td>\n",
       "      <td>2020-02-15 09:34:33+00:00</td>\n",
       "    </tr>\n",
       "  </tbody>\n",
       "</table>\n",
       "</div>"
      ],
      "text/plain": [
       "     actor_id first_name last_name               last_update\n",
       "195       196       BELA    WALKEN 2020-02-15 09:34:33+00:00\n",
       "196       197      REESE      WEST 2020-02-15 09:34:33+00:00\n",
       "197       198       MARY    KEITEL 2020-02-15 09:34:33+00:00\n",
       "198       199      JULIA   FAWCETT 2020-02-15 09:34:33+00:00\n",
       "199       200      THORA    TEMPLE 2020-02-15 09:34:33+00:00"
      ]
     },
     "execution_count": 22,
     "metadata": {},
     "output_type": "execute_result"
    }
   ],
   "source": [
    "tb_cliente_postgres.tail()"
   ]
  },
  {
   "cell_type": "code",
   "execution_count": null,
   "metadata": {},
   "outputs": [],
   "source": [
    "# Fim.."
   ]
  }
 ],
 "metadata": {
  "kernelspec": {
   "display_name": "Python 3",
   "language": "python",
   "name": "python3"
  },
  "language_info": {
   "codemirror_mode": {
    "name": "ipython",
    "version": 3
   },
   "file_extension": ".py",
   "mimetype": "text/x-python",
   "name": "python",
   "nbconvert_exporter": "python",
   "pygments_lexer": "ipython3",
   "version": "3.7.6"
  }
 },
 "nbformat": 4,
 "nbformat_minor": 2
}
